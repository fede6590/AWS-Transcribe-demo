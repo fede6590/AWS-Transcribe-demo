{
 "cells": [
  {
   "cell_type": "code",
   "execution_count": 1,
   "metadata": {},
   "outputs": [
    {
     "name": "stdout",
     "output_type": "stream",
     "text": [
      "Requirement already satisfied: pytube in c:\\users\\u633714\\appdata\\local\\miniconda3\\lib\\site-packages (15.0.0)\n",
      "Requirement already satisfied: ffmpeg in c:\\users\\u633714\\appdata\\local\\miniconda3\\lib\\site-packages (1.4)\n",
      "Note: you may need to restart the kernel to use updated packages.\n"
     ]
    }
   ],
   "source": [
    "%pip install pytube"
   ]
  },
  {
   "cell_type": "code",
   "execution_count": 2,
   "metadata": {},
   "outputs": [],
   "source": [
    "from pytube import YouTube\n",
    "\n",
    "def download_video(url, filename):\n",
    "    YouTube(url).streams.first().download(filename=filename)"
   ]
  },
  {
   "cell_type": "code",
   "execution_count": 6,
   "metadata": {},
   "outputs": [
    {
     "name": "stdout",
     "output_type": "stream",
     "text": [
      "Error during segmentation: Command 'ffmpeg -i video.mp4 -c:v libx264 -c:a aac -f hls -hls_time 2 -hls_list_size 0 -hls_segment_filename stream/%03d.ts stream\\video.m3u8' returned non-zero exit status 1.\n"
     ]
    }
   ],
   "source": [
    "url = \"https://www.youtube.com/watch?v=hdCju_nrdUo\"\n",
    "filename = \"video.mp4\"\n",
    "\n",
    "download_video(url, filename)"
   ]
  }
 ],
 "metadata": {
  "kernelspec": {
   "display_name": "base",
   "language": "python",
   "name": "python3"
  },
  "language_info": {
   "codemirror_mode": {
    "name": "ipython",
    "version": 3
   },
   "file_extension": ".py",
   "mimetype": "text/x-python",
   "name": "python",
   "nbconvert_exporter": "python",
   "pygments_lexer": "ipython3",
   "version": "3.11.5"
  }
 },
 "nbformat": 4,
 "nbformat_minor": 2
}
