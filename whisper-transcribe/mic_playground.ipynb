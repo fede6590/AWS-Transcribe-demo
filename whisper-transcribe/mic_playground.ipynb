{
 "cells": [
  {
   "cell_type": "code",
   "execution_count": null,
   "metadata": {},
   "outputs": [],
   "source": [
    "%pip install -U openai-whisper sounddevice pyaudio numpy"
   ]
  },
  {
   "cell_type": "code",
   "execution_count": null,
   "metadata": {},
   "outputs": [],
   "source": [
    "import asyncio\n",
    "import nest_asyncio\n",
    "import whisper\n",
    "import numpy as np\n",
    "from sounddevice import RawInputStream\n",
    "\n",
    "nest_asyncio.apply()"
   ]
  },
  {
   "cell_type": "code",
   "execution_count": null,
   "metadata": {},
   "outputs": [],
   "source": [
    "class MyWhisperHandler:\n",
    "    def __init__(self, model=\"base\"):\n",
    "        self.model = whisper.load_model(model)\n",
    "        # self.fp = cuda.is_available()\n",
    "        self.options = whisper.DecodingOptions(fp16=False)\n",
    "\n",
    "    async def handle_transcript_event(self, transcript_event, lang):\n",
    "        # print(transcript_event['text'])\n",
    "        print(f\"{lang} - {transcript_event.text}\")"
   ]
  },
  {
   "cell_type": "code",
   "execution_count": null,
   "metadata": {},
   "outputs": [],
   "source": [
    "async def mic_stream():\n",
    "    loop = asyncio.get_event_loop()\n",
    "    input_queue = asyncio.Queue() \n",
    "\n",
    "    def callback(indata, frame_count, time_info, status):\n",
    "        # loop.call_soon_threadsafe(input_queue.put_nowait, (frombuffer(indata, dtype=int16), status))\n",
    "        loop.call_soon_threadsafe(input_queue.put_nowait, (np.frombuffer(indata, dtype=np.int16).astype(np.float32), status))\n",
    "\n",
    "\n",
    "    stream = RawInputStream(\n",
    "        channels=1,\n",
    "        samplerate=16000,\n",
    "        callback=callback,\n",
    "        blocksize=1024 * 2,\n",
    "        dtype=\"int16\",\n",
    "    )\n",
    "\n",
    "    with stream:\n",
    "        while True:\n",
    "            indata, status = await input_queue.get()\n",
    "            yield indata, status"
   ]
  },
  {
   "cell_type": "code",
   "execution_count": null,
   "metadata": {},
   "outputs": [],
   "source": [
    "async def write_chunks(handler):\n",
    "    async for chunk, status in mic_stream():\n",
    "        chunk = whisper.pad_or_trim(chunk)\n",
    "        mel = whisper.log_mel_spectrogram(chunk).to(handler.model.device)\n",
    "        _, probs = handler.model.detect_language(mel)\n",
    "        lang = {max(probs, key=probs.get)}\n",
    "        transcript_event = whisper.decode(handler.model, mel, handler.options)\n",
    "        await handler.handle_transcript_event(transcript_event, lang)"
   ]
  },
  {
   "cell_type": "code",
   "execution_count": null,
   "metadata": {},
   "outputs": [],
   "source": [
    "async def basic_transcribe():\n",
    "   handler = MyWhisperHandler()\n",
    "   await asyncio.gather(write_chunks(handler))"
   ]
  },
  {
   "cell_type": "code",
   "execution_count": null,
   "metadata": {},
   "outputs": [],
   "source": [
    "asyncio.run(basic_transcribe())"
   ]
  }
 ],
 "metadata": {
  "kernelspec": {
   "display_name": "base",
   "language": "python",
   "name": "python3"
  },
  "language_info": {
   "codemirror_mode": {
    "name": "ipython",
    "version": 3
   },
   "file_extension": ".py",
   "mimetype": "text/x-python",
   "name": "python",
   "nbconvert_exporter": "python",
   "pygments_lexer": "ipython3",
   "version": "3.11.5"
  }
 },
 "nbformat": 4,
 "nbformat_minor": 2
}
