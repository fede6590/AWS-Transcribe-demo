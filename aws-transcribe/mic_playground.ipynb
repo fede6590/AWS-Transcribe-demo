{
 "cells": [
  {
   "cell_type": "code",
   "execution_count": null,
   "metadata": {},
   "outputs": [],
   "source": [
    "%pip install boto3 amazon_transcribe"
   ]
  },
  {
   "cell_type": "code",
   "execution_count": null,
   "metadata": {},
   "outputs": [],
   "source": [
    "import asyncio\n",
    "import nest_asyncio\n",
    "import sounddevice\n",
    "import boto3\n",
    "import os\n",
    "\n",
    "from amazon_transcribe.client import TranscribeStreamingClient\n",
    "from amazon_transcribe.handlers import TranscriptResultStreamHandler\n",
    "from amazon_transcribe.model import TranscriptEvent\n",
    "\n",
    "nest_asyncio.apply()"
   ]
  },
  {
   "cell_type": "code",
   "execution_count": null,
   "metadata": {},
   "outputs": [],
   "source": [
    "class MyEventHandler(TranscriptResultStreamHandler):\n",
    "    async def handle_transcript_event(self, transcript_event: TranscriptEvent):\n",
    "        # This handler  be implemented to handle transcriptions as needed.\n",
    "        # Here's an excanample to get started.\n",
    "        results = transcript_event.transcript.results\n",
    "        for result in results:\n",
    "            for alt in result.alternatives:\n",
    "                print(alt.transcript)"
   ]
  },
  {
   "cell_type": "code",
   "execution_count": null,
   "metadata": {},
   "outputs": [],
   "source": [
    "def create_transcribe_client():\n",
    "    \"\"\"Creates a TranscribeStreamingClient, using IAM role credentials if available,\n",
    "    otherwise using environment variables.\"\"\"\n",
    "    try:\n",
    "        session = boto3.Session()\n",
    "        client = session.client('transcribe')  # Test for IAM role availability\n",
    "        return TranscribeStreamingClient(session=session)\n",
    "\n",
    "    except Exception as e:\n",
    "        print(\"IAM role credentials not found, using environment variables.\")\n",
    "        try:\n",
    "            session = boto3.Session(\n",
    "                aws_access_key_id=os.environ['AWS_ACCESS_KEY_ID'],\n",
    "                aws_secret_access_key=os.environ['AWS_SECRET_ACCESS_KEY'],\n",
    "                region_name=\"us-east-1\"\n",
    "            )\n",
    "            return TranscribeStreamingClient(session=session)\n",
    "        except KeyError:\n",
    "            print(\"Environment variables not set for AWS credentials.\")\n",
    "            raise e"
   ]
  },
  {
   "cell_type": "code",
   "execution_count": null,
   "metadata": {},
   "outputs": [],
   "source": [
    "async def mic_stream():\n",
    "    # This function wraps the raw input stream from the microphone forwarding\n",
    "    # the blocks to an asyncio.Queue.\n",
    "    loop = asyncio.get_event_loop()\n",
    "    input_queue = asyncio.Queue()\n",
    "\n",
    "    def callback(indata, frame_count, time_info, status):\n",
    "        loop.call_soon_threadsafe(input_queue.put_nowait, (bytes(indata), status))\n",
    "\n",
    "    # Be sure to use the correct parameters for the audio stream that matches\n",
    "    # the audio formats described for the source language you'll be using:\n",
    "    # https://docs.aws.amazon.com/transcribe/latest/dg/streaming.html\n",
    "    stream = sounddevice.RawInputStream(\n",
    "        channels=1,\n",
    "        samplerate=16000,\n",
    "        callback=callback,\n",
    "        blocksize=1024 * 2,\n",
    "        dtype=\"int16\",\n",
    "    )\n",
    "    # Initiate the audio stream and asynchronously yield the audio chunks\n",
    "    # as they become available.\n",
    "    with stream:\n",
    "        while True:\n",
    "            indata, status = await input_queue.get()\n",
    "            yield indata, status"
   ]
  },
  {
   "cell_type": "code",
   "execution_count": null,
   "metadata": {},
   "outputs": [],
   "source": [
    "async def write_chunks(stream):\n",
    "    # This connects the raw audio chunks generator coming from the microphone\n",
    "    # and passes them along to the transcription stream.\n",
    "    async for chunk, status in mic_stream():\n",
    "        await stream.input_stream.send_audio_event(audio_chunk=chunk)\n",
    "    await stream.input_stream.end_stream()"
   ]
  },
  {
   "cell_type": "code",
   "execution_count": null,
   "metadata": {},
   "outputs": [],
   "source": [
    "async def basic_transcribe():\n",
    "    # Setup up our client with our chosen AWS region\n",
    "    client = create_transcribe_client()\n",
    "\n",
    "    # Start transcription to generate our async stream\n",
    "    stream = await client.start_stream_transcription(\n",
    "        language_code=\"en-US\",\n",
    "        media_sample_rate_hz=16000,\n",
    "        media_encoding=\"pcm\"\n",
    "    )\n",
    "\n",
    "    # Instantiate our handler and start processing events\n",
    "    handler = MyEventHandler(stream.output_stream)\n",
    "    await asyncio.gather(write_chunks(stream), handler.handle_events())"
   ]
  },
  {
   "cell_type": "code",
   "execution_count": null,
   "metadata": {},
   "outputs": [],
   "source": [
    "asyncio.run(basic_transcribe())"
   ]
  }
 ],
 "metadata": {
  "language_info": {
   "name": "python"
  }
 },
 "nbformat": 4,
 "nbformat_minor": 2
}
