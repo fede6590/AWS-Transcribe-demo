{
 "cells": [
  {
   "cell_type": "code",
   "execution_count": null,
   "metadata": {},
   "outputs": [],
   "source": [
    "%pip install sounddevice amazon_transcribe boto3"
   ]
  },
  {
   "cell_type": "code",
   "execution_count": null,
   "metadata": {},
   "outputs": [],
   "source": [
    "import asyncio\n",
    "import nest_asyncio\n",
    "import subprocess\n",
    "import boto3\n",
    "import os\n",
    "import glob\n",
    "\n",
    "from amazon_transcribe.client import TranscribeStreamingClient\n",
    "from amazon_transcribe.handlers import TranscriptResultStreamHandler\n",
    "from amazon_transcribe.model import TranscriptEvent\n",
    "\n",
    "nest_asyncio.apply()"
   ]
  },
  {
   "cell_type": "code",
   "execution_count": null,
   "metadata": {},
   "outputs": [],
   "source": [
    "class MyEventHandler(TranscriptResultStreamHandler):\n",
    "    async def handle_transcript_event(self, transcript_event: TranscriptEvent):\n",
    "        results = transcript_event.transcript.results\n",
    "        for result in results:\n",
    "            for alt in result.alternatives:\n",
    "                print(alt.transcript)"
   ]
  },
  {
   "cell_type": "code",
   "execution_count": null,
   "metadata": {},
   "outputs": [],
   "source": [
    "def create_transcribe_client():\n",
    "    \"\"\"Creates a TranscribeStreamingClient, using IAM role credentials if available,\n",
    "    otherwise using environment variables.\"\"\"\n",
    "    try:\n",
    "        session = boto3.Session()\n",
    "        _ = session.client('transcribe')  # Test for IAM role availability\n",
    "        return TranscribeStreamingClient(session=session)\n",
    "\n",
    "    except Exception as e:\n",
    "        print(\"IAM role credentials not found, using environment variables.\")\n",
    "        try:\n",
    "            session = boto3.Session(\n",
    "                aws_access_key_id=os.environ.get('AWS_ACCESS_KEY_ID'),\n",
    "                aws_secret_access_key=os.environ.get('AWS_SECRET_ACCESS_KEY'),\n",
    "                region_name=\"us-east-1\"\n",
    "            )\n",
    "            return TranscribeStreamingClient(session=session)\n",
    "        except KeyError:\n",
    "            print(\"Environment variables not set for AWS credentials.\")\n",
    "            raise e"
   ]
  },
  {
   "cell_type": "code",
   "execution_count": null,
   "metadata": {},
   "outputs": [],
   "source": [
    "def cleanup_oldest_file(max_files):\n",
    "    # Get a list of all .ts files in the '/temp/' directory\n",
    "    ts_files = glob.glob(os.path.join('/temp/', '*.ts'))\n",
    "\n",
    "    # If there are more than max_files, delete the oldest ones\n",
    "    if len(ts_files) > max_files:\n",
    "        ts_files.sort(key=os.path.getctime)\n",
    "        for file in ts_files[:len(ts_files) - max_files]:\n",
    "            os.remove(file)"
   ]
  },
  {
   "cell_type": "code",
   "execution_count": null,
   "metadata": {},
   "outputs": [],
   "source": [
    "async def download_ts_files(bucket_name):\n",
    "    s3 = boto3.client('s3')\n",
    "    paginator = s3.get_paginator('list_objects_v2')\n",
    "    loop = asyncio.get_event_loop()\n",
    "\n",
    "    for page in paginator.paginate(Bucket=bucket_name):\n",
    "        for obj in page['Contents']:\n",
    "            if obj['Key'].endswith('.ts'):\n",
    "                await loop.run_in_executor(\n",
    "                    None,\n",
    "                    s3.download_file,\n",
    "                    bucket_name,\n",
    "                    obj['Key'],\n",
    "                    os.path.join('/temp/', obj['Key'])\n",
    "                    )\n",
    "                cleanup_oldest_file(10)  # Keep only the 10 most recent files"
   ]
  },
  {
   "cell_type": "code",
   "execution_count": null,
   "metadata": {},
   "outputs": [],
   "source": [
    "async def ts_stream():\n",
    "    while True:\n",
    "        # Get the list of .ts files in the directory\n",
    "        ts_files = [os.path.join('/temp/', f) for f in os.listdir('/temp/') if f.endswith('.ts')]\n",
    "        if not ts_files:\n",
    "            continue\n",
    "\n",
    "        # Sort the files by modification time and take the latest one\n",
    "        latest_file = sorted(ts_files, key=lambda f: os.path.getmtime(f), reverse=True)[0]\n",
    "\n",
    "        cmd = ['ffmpeg', '-i', latest_file, '-vn', '-acodec', 'pcm_s16le', '-f', 'wav', '-']\n",
    "        proc = await asyncio.create_subprocess_exec(*cmd, stdout=subprocess.PIPE, stderr=subprocess.DEVNULL)\n",
    "\n",
    "        while True:\n",
    "            chunk = await proc.stdout.read(1024 * 2)\n",
    "            if not chunk:\n",
    "                break\n",
    "            yield chunk, None"
   ]
  },
  {
   "cell_type": "code",
   "execution_count": null,
   "metadata": {},
   "outputs": [],
   "source": [
    "async def write_chunks(stream):\n",
    "    # This connects the raw audio chunks generator coming from the microphone\n",
    "    # and passes them along to the transcription stream.\n",
    "    async for chunk, status in ts_stream():\n",
    "        await stream.input_stream.send_audio_event(audio_chunk=chunk)\n",
    "    await stream.input_stream.end_stream()"
   ]
  },
  {
   "cell_type": "code",
   "execution_count": null,
   "metadata": {},
   "outputs": [],
   "source": [
    "async def basic_transcribe(bucket_name):\n",
    "    # Setup up our client with our chosen AWS region\n",
    "    client = create_transcribe_client()\n",
    "    # Start transcription to generate our async stream\n",
    "    stream = await client.start_stream_transcription(\n",
    "        language_code=\"en-US\",\n",
    "        media_sample_rate_hz=16000,\n",
    "        media_encoding=\"pcm\"\n",
    "    )\n",
    "    # Instantiate our handler and start processing events\n",
    "    handler = MyEventHandler(stream.output_stream)\n",
    "    await download_ts_files(bucket_name)\n",
    "    await asyncio.gather(write_chunks(stream), handler.handle_events())\n"
   ]
  },
  {
   "cell_type": "code",
   "execution_count": null,
   "metadata": {},
   "outputs": [],
   "source": [
    "bucket_name='poc-subtitulos'\n",
    "\n",
    "asyncio.run(basic_transcribe(bucket_name))"
   ]
  }
 ],
 "metadata": {
  "kernelspec": {
   "display_name": "base",
   "language": "python",
   "name": "python3"
  },
  "language_info": {
   "codemirror_mode": {
    "name": "ipython",
    "version": 3
   },
   "file_extension": ".py",
   "mimetype": "text/x-python",
   "name": "python",
   "nbconvert_exporter": "python",
   "pygments_lexer": "ipython3",
   "version": "3.11.5"
  }
 },
 "nbformat": 4,
 "nbformat_minor": 2
}
